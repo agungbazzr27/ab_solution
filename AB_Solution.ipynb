{
 "cells": [
  {
   "cell_type": "code",
   "execution_count": 11,
   "id": "c4257bae-7045-4d15-933f-385167654beb",
   "metadata": {},
   "outputs": [],
   "source": [
    "def string_reverser1(str):\n",
    "    return str[::-1]\n"
   ]
  },
  {
   "cell_type": "code",
   "execution_count": 15,
   "id": "2da7c73b-fe22-4034-9b9b-9ea7a1732ea5",
   "metadata": {},
   "outputs": [
    {
     "name": "stdout",
     "output_type": "stream",
     "text": [
      "daolnwod\n"
     ]
    }
   ],
   "source": [
    "print(string_reverser1(\"download\"))"
   ]
  },
  {
   "cell_type": "code",
   "execution_count": 16,
   "id": "565e78ac-76a3-4fb9-ad83-29f2608adcb3",
   "metadata": {},
   "outputs": [],
   "source": [
    "def reverse_str(s):\n",
    "    if len(s) == 0:\n",
    "        return s\n",
    "    else:\n",
    "        return reverse_str(s[1:]) + s[0]\n"
   ]
  },
  {
   "cell_type": "code",
   "execution_count": 17,
   "id": "b8cc6da8-8aa8-4249-bf51-f032cfe2bda3",
   "metadata": {},
   "outputs": [
    {
     "name": "stdout",
     "output_type": "stream",
     "text": [
      "daolnwod\n"
     ]
    }
   ],
   "source": [
    "print(reverse_str(\"download\"))"
   ]
  },
  {
   "cell_type": "code",
   "execution_count": 19,
   "id": "e75f4c94-e88a-445d-95df-749943f1d199",
   "metadata": {},
   "outputs": [],
   "source": [
    "def palindrome_checker(str):\n",
    "    new_string = \"\"\n",
    "    reverse_string = \"\"\n",
    "    for letter in str.strip():\n",
    "        new_string = new_string+letter.replace(\" \",\"\")\n",
    "        reverse_string = letter.replace(\" \",\"\")+reverse_string\n",
    "    # Compare the strings\n",
    "    if new_string.lower() == reverse_string.lower():\n",
    "        return True\n",
    "    return False"
   ]
  },
  {
   "cell_type": "code",
   "execution_count": 21,
   "id": "13c64860-192f-4508-9577-e00c29927c7a",
   "metadata": {},
   "outputs": [
    {
     "name": "stdout",
     "output_type": "stream",
     "text": [
      "False\n",
      "True\n"
     ]
    }
   ],
   "source": [
    "print(palindrome_checker(\"download\"))\n",
    "print(palindrome_checker(\"downwod\"))"
   ]
  },
  {
   "cell_type": "code",
   "execution_count": 66,
   "id": "1ee159eb-9ada-4f33-93ff-046bb16a8b60",
   "metadata": {},
   "outputs": [],
   "source": [
    "def prime_number_generator(limit):\n",
    "    x = []\n",
    "    for num in range(limit):\n",
    "        if num > 1:\n",
    "            # Iterate from 2 to n / 2\n",
    "            for i in range(2, int(num/2)+1):\n",
    "                # If num is divisible by any number between\n",
    "                # 2 and n / 2, it is not prime\n",
    "                if (num % i) == 0:\n",
    "                    break\n",
    "            else:\n",
    "                x.append(num) \n",
    "    return x\n",
    "        \n"
   ]
  },
  {
   "cell_type": "code",
   "execution_count": 68,
   "id": "d119745c-d14a-4b8c-a12c-0fb590b116a9",
   "metadata": {},
   "outputs": [
    {
     "name": "stdout",
     "output_type": "stream",
     "text": [
      "[2, 3, 5, 7, 11, 13, 17, 19, 23, 29, 31, 37, 41, 43, 47, 53, 59, 61, 67, 71, 73, 79, 83, 89]\n"
     ]
    }
   ],
   "source": [
    "print(prime_number_generator(90))"
   ]
  },
  {
   "cell_type": "code",
   "execution_count": null,
   "id": "a66b850b-808d-40d1-b150-0d6ce9f7804e",
   "metadata": {},
   "outputs": [],
   "source": []
  }
 ],
 "metadata": {
  "kernelspec": {
   "display_name": "Python 3 (ipykernel)",
   "language": "python",
   "name": "python3"
  },
  "language_info": {
   "codemirror_mode": {
    "name": "ipython",
    "version": 3
   },
   "file_extension": ".py",
   "mimetype": "text/x-python",
   "name": "python",
   "nbconvert_exporter": "python",
   "pygments_lexer": "ipython3",
   "version": "3.12.1"
  }
 },
 "nbformat": 4,
 "nbformat_minor": 5
}
